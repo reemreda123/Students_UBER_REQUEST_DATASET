{
 "cells": [
  {
   "cell_type": "markdown",
   "id": "0353ad35",
   "metadata": {
    "id": "0353ad35"
   },
   "source": [
    "# Importings"
   ]
  },
  {
   "cell_type": "code",
   "execution_count": 1,
   "id": "4793159f",
   "metadata": {
    "id": "4793159f"
   },
   "outputs": [],
   "source": [
    "import numpy as np\n",
    "import pandas as pd\n",
    "import matplotlib.pyplot as plt\n",
    "import seaborn as sns\n",
    "import warnings\n",
    "warnings.filterwarnings('ignore')"
   ]
  },
  {
   "cell_type": "markdown",
   "id": "a6b56fe1",
   "metadata": {
    "id": "a6b56fe1"
   },
   "source": [
    "# Exploratory data analysis"
   ]
  },
  {
   "cell_type": "code",
   "execution_count": 2,
   "id": "SxYxYt-gKvdX",
   "metadata": {
    "id": "SxYxYt-gKvdX"
   },
   "outputs": [],
   "source": [
    "data=pd.read_csv(r\"C:\\Users\\lenovo\\Downloads\\Uber Request Data - Uber Request Data.csv\")"
   ]
  },
  {
   "cell_type": "code",
   "execution_count": 3,
   "id": "hMGeUu-NKvZ4",
   "metadata": {
    "id": "hMGeUu-NKvZ4"
   },
   "outputs": [],
   "source": [
    "df=data.copy()"
   ]
  },
  {
   "cell_type": "code",
   "execution_count": 4,
   "id": "4f80e03e",
   "metadata": {
    "id": "4f80e03e",
    "scrolled": true
   },
   "outputs": [
    {
     "data": {
      "text/plain": [
       "(6745, 6)"
      ]
     },
     "execution_count": 4,
     "metadata": {},
     "output_type": "execute_result"
    }
   ],
   "source": [
    "df.shape"
   ]
  },
  {
   "cell_type": "code",
   "execution_count": 5,
   "id": "7ea61a66",
   "metadata": {},
   "outputs": [
    {
     "name": "stdout",
     "output_type": "stream",
     "text": [
      "<class 'pandas.core.frame.DataFrame'>\n",
      "RangeIndex: 6745 entries, 0 to 6744\n",
      "Data columns (total 6 columns):\n",
      " #   Column             Non-Null Count  Dtype  \n",
      "---  ------             --------------  -----  \n",
      " 0   Request id         6745 non-null   int64  \n",
      " 1   Pickup point       6745 non-null   object \n",
      " 2   Driver id          4095 non-null   float64\n",
      " 3   Status             6745 non-null   object \n",
      " 4   Request timestamp  6745 non-null   object \n",
      " 5   Drop timestamp     2831 non-null   object \n",
      "dtypes: float64(1), int64(1), object(4)\n",
      "memory usage: 316.3+ KB\n"
     ]
    }
   ],
   "source": [
    "df.info()"
   ]
  },
  {
   "cell_type": "code",
   "execution_count": 6,
   "id": "24d5e3e5",
   "metadata": {},
   "outputs": [
    {
     "data": {
      "text/plain": [
       "Request id             int64\n",
       "Pickup point          object\n",
       "Driver id            float64\n",
       "Status                object\n",
       "Request timestamp     object\n",
       "Drop timestamp        object\n",
       "dtype: object"
      ]
     },
     "execution_count": 6,
     "metadata": {},
     "output_type": "execute_result"
    }
   ],
   "source": [
    "df.dtypes"
   ]
  },
  {
   "cell_type": "code",
   "execution_count": 7,
   "id": "b9fef5aa",
   "metadata": {},
   "outputs": [
    {
     "data": {
      "text/plain": [
       "Request id              0\n",
       "Pickup point            0\n",
       "Driver id            2650\n",
       "Status                  0\n",
       "Request timestamp       0\n",
       "Drop timestamp       3914\n",
       "dtype: int64"
      ]
     },
     "execution_count": 7,
     "metadata": {},
     "output_type": "execute_result"
    }
   ],
   "source": [
    "df.isna().sum()"
   ]
  },
  {
   "cell_type": "code",
   "execution_count": 8,
   "id": "bad78fc4",
   "metadata": {},
   "outputs": [
    {
     "data": {
      "text/html": [
       "<div>\n",
       "<style scoped>\n",
       "    .dataframe tbody tr th:only-of-type {\n",
       "        vertical-align: middle;\n",
       "    }\n",
       "\n",
       "    .dataframe tbody tr th {\n",
       "        vertical-align: top;\n",
       "    }\n",
       "\n",
       "    .dataframe thead th {\n",
       "        text-align: right;\n",
       "    }\n",
       "</style>\n",
       "<table border=\"1\" class=\"dataframe\">\n",
       "  <thead>\n",
       "    <tr style=\"text-align: right;\">\n",
       "      <th></th>\n",
       "      <th>Request id</th>\n",
       "      <th>Pickup point</th>\n",
       "      <th>Driver id</th>\n",
       "      <th>Status</th>\n",
       "      <th>Request timestamp</th>\n",
       "      <th>Drop timestamp</th>\n",
       "    </tr>\n",
       "  </thead>\n",
       "  <tbody>\n",
       "    <tr>\n",
       "      <th>4095</th>\n",
       "      <td>1362</td>\n",
       "      <td>City</td>\n",
       "      <td>NaN</td>\n",
       "      <td>No Cars Available</td>\n",
       "      <td>11/7/2016 00:02</td>\n",
       "      <td>NaN</td>\n",
       "    </tr>\n",
       "    <tr>\n",
       "      <th>4096</th>\n",
       "      <td>1364</td>\n",
       "      <td>City</td>\n",
       "      <td>NaN</td>\n",
       "      <td>No Cars Available</td>\n",
       "      <td>11/7/2016 00:06</td>\n",
       "      <td>NaN</td>\n",
       "    </tr>\n",
       "    <tr>\n",
       "      <th>4097</th>\n",
       "      <td>1366</td>\n",
       "      <td>City</td>\n",
       "      <td>NaN</td>\n",
       "      <td>No Cars Available</td>\n",
       "      <td>11/7/2016 00:09</td>\n",
       "      <td>NaN</td>\n",
       "    </tr>\n",
       "    <tr>\n",
       "      <th>4098</th>\n",
       "      <td>2</td>\n",
       "      <td>Airport</td>\n",
       "      <td>NaN</td>\n",
       "      <td>No Cars Available</td>\n",
       "      <td>11/7/2016 00:23</td>\n",
       "      <td>NaN</td>\n",
       "    </tr>\n",
       "    <tr>\n",
       "      <th>4099</th>\n",
       "      <td>7</td>\n",
       "      <td>Airport</td>\n",
       "      <td>NaN</td>\n",
       "      <td>No Cars Available</td>\n",
       "      <td>11/7/2016 00:30</td>\n",
       "      <td>NaN</td>\n",
       "    </tr>\n",
       "    <tr>\n",
       "      <th>...</th>\n",
       "      <td>...</td>\n",
       "      <td>...</td>\n",
       "      <td>...</td>\n",
       "      <td>...</td>\n",
       "      <td>...</td>\n",
       "      <td>...</td>\n",
       "    </tr>\n",
       "    <tr>\n",
       "      <th>6740</th>\n",
       "      <td>6745</td>\n",
       "      <td>City</td>\n",
       "      <td>NaN</td>\n",
       "      <td>No Cars Available</td>\n",
       "      <td>15-07-2016 23:49:03</td>\n",
       "      <td>NaN</td>\n",
       "    </tr>\n",
       "    <tr>\n",
       "      <th>6741</th>\n",
       "      <td>6752</td>\n",
       "      <td>Airport</td>\n",
       "      <td>NaN</td>\n",
       "      <td>No Cars Available</td>\n",
       "      <td>15-07-2016 23:50:05</td>\n",
       "      <td>NaN</td>\n",
       "    </tr>\n",
       "    <tr>\n",
       "      <th>6742</th>\n",
       "      <td>6751</td>\n",
       "      <td>City</td>\n",
       "      <td>NaN</td>\n",
       "      <td>No Cars Available</td>\n",
       "      <td>15-07-2016 23:52:06</td>\n",
       "      <td>NaN</td>\n",
       "    </tr>\n",
       "    <tr>\n",
       "      <th>6743</th>\n",
       "      <td>6754</td>\n",
       "      <td>City</td>\n",
       "      <td>NaN</td>\n",
       "      <td>No Cars Available</td>\n",
       "      <td>15-07-2016 23:54:39</td>\n",
       "      <td>NaN</td>\n",
       "    </tr>\n",
       "    <tr>\n",
       "      <th>6744</th>\n",
       "      <td>6753</td>\n",
       "      <td>Airport</td>\n",
       "      <td>NaN</td>\n",
       "      <td>No Cars Available</td>\n",
       "      <td>15-07-2016 23:55:03</td>\n",
       "      <td>NaN</td>\n",
       "    </tr>\n",
       "  </tbody>\n",
       "</table>\n",
       "<p>2650 rows × 6 columns</p>\n",
       "</div>"
      ],
      "text/plain": [
       "      Request id Pickup point  Driver id             Status  \\\n",
       "4095        1362         City        NaN  No Cars Available   \n",
       "4096        1364         City        NaN  No Cars Available   \n",
       "4097        1366         City        NaN  No Cars Available   \n",
       "4098           2      Airport        NaN  No Cars Available   \n",
       "4099           7      Airport        NaN  No Cars Available   \n",
       "...          ...          ...        ...                ...   \n",
       "6740        6745         City        NaN  No Cars Available   \n",
       "6741        6752      Airport        NaN  No Cars Available   \n",
       "6742        6751         City        NaN  No Cars Available   \n",
       "6743        6754         City        NaN  No Cars Available   \n",
       "6744        6753      Airport        NaN  No Cars Available   \n",
       "\n",
       "        Request timestamp Drop timestamp  \n",
       "4095      11/7/2016 00:02            NaN  \n",
       "4096      11/7/2016 00:06            NaN  \n",
       "4097      11/7/2016 00:09            NaN  \n",
       "4098      11/7/2016 00:23            NaN  \n",
       "4099      11/7/2016 00:30            NaN  \n",
       "...                   ...            ...  \n",
       "6740  15-07-2016 23:49:03            NaN  \n",
       "6741  15-07-2016 23:50:05            NaN  \n",
       "6742  15-07-2016 23:52:06            NaN  \n",
       "6743  15-07-2016 23:54:39            NaN  \n",
       "6744  15-07-2016 23:55:03            NaN  \n",
       "\n",
       "[2650 rows x 6 columns]"
      ]
     },
     "execution_count": 8,
     "metadata": {},
     "output_type": "execute_result"
    }
   ],
   "source": [
    "df[df['Driver id'].isna()]"
   ]
  },
  {
   "cell_type": "code",
   "execution_count": 9,
   "id": "754ab39d",
   "metadata": {},
   "outputs": [
    {
     "data": {
      "text/html": [
       "<div>\n",
       "<style scoped>\n",
       "    .dataframe tbody tr th:only-of-type {\n",
       "        vertical-align: middle;\n",
       "    }\n",
       "\n",
       "    .dataframe tbody tr th {\n",
       "        vertical-align: top;\n",
       "    }\n",
       "\n",
       "    .dataframe thead th {\n",
       "        text-align: right;\n",
       "    }\n",
       "</style>\n",
       "<table border=\"1\" class=\"dataframe\">\n",
       "  <thead>\n",
       "    <tr style=\"text-align: right;\">\n",
       "      <th></th>\n",
       "      <th>Request id</th>\n",
       "      <th>Pickup point</th>\n",
       "      <th>Driver id</th>\n",
       "      <th>Status</th>\n",
       "      <th>Request timestamp</th>\n",
       "      <th>Drop timestamp</th>\n",
       "    </tr>\n",
       "  </thead>\n",
       "  <tbody>\n",
       "    <tr>\n",
       "      <th>4095</th>\n",
       "      <td>1362</td>\n",
       "      <td>City</td>\n",
       "      <td>NaN</td>\n",
       "      <td>No Cars Available</td>\n",
       "      <td>11/7/2016 00:02</td>\n",
       "      <td>NaN</td>\n",
       "    </tr>\n",
       "    <tr>\n",
       "      <th>4096</th>\n",
       "      <td>1364</td>\n",
       "      <td>City</td>\n",
       "      <td>NaN</td>\n",
       "      <td>No Cars Available</td>\n",
       "      <td>11/7/2016 00:06</td>\n",
       "      <td>NaN</td>\n",
       "    </tr>\n",
       "    <tr>\n",
       "      <th>4097</th>\n",
       "      <td>1366</td>\n",
       "      <td>City</td>\n",
       "      <td>NaN</td>\n",
       "      <td>No Cars Available</td>\n",
       "      <td>11/7/2016 00:09</td>\n",
       "      <td>NaN</td>\n",
       "    </tr>\n",
       "    <tr>\n",
       "      <th>4098</th>\n",
       "      <td>2</td>\n",
       "      <td>Airport</td>\n",
       "      <td>NaN</td>\n",
       "      <td>No Cars Available</td>\n",
       "      <td>11/7/2016 00:23</td>\n",
       "      <td>NaN</td>\n",
       "    </tr>\n",
       "    <tr>\n",
       "      <th>4099</th>\n",
       "      <td>7</td>\n",
       "      <td>Airport</td>\n",
       "      <td>NaN</td>\n",
       "      <td>No Cars Available</td>\n",
       "      <td>11/7/2016 00:30</td>\n",
       "      <td>NaN</td>\n",
       "    </tr>\n",
       "    <tr>\n",
       "      <th>...</th>\n",
       "      <td>...</td>\n",
       "      <td>...</td>\n",
       "      <td>...</td>\n",
       "      <td>...</td>\n",
       "      <td>...</td>\n",
       "      <td>...</td>\n",
       "    </tr>\n",
       "    <tr>\n",
       "      <th>6740</th>\n",
       "      <td>6745</td>\n",
       "      <td>City</td>\n",
       "      <td>NaN</td>\n",
       "      <td>No Cars Available</td>\n",
       "      <td>15-07-2016 23:49:03</td>\n",
       "      <td>NaN</td>\n",
       "    </tr>\n",
       "    <tr>\n",
       "      <th>6741</th>\n",
       "      <td>6752</td>\n",
       "      <td>Airport</td>\n",
       "      <td>NaN</td>\n",
       "      <td>No Cars Available</td>\n",
       "      <td>15-07-2016 23:50:05</td>\n",
       "      <td>NaN</td>\n",
       "    </tr>\n",
       "    <tr>\n",
       "      <th>6742</th>\n",
       "      <td>6751</td>\n",
       "      <td>City</td>\n",
       "      <td>NaN</td>\n",
       "      <td>No Cars Available</td>\n",
       "      <td>15-07-2016 23:52:06</td>\n",
       "      <td>NaN</td>\n",
       "    </tr>\n",
       "    <tr>\n",
       "      <th>6743</th>\n",
       "      <td>6754</td>\n",
       "      <td>City</td>\n",
       "      <td>NaN</td>\n",
       "      <td>No Cars Available</td>\n",
       "      <td>15-07-2016 23:54:39</td>\n",
       "      <td>NaN</td>\n",
       "    </tr>\n",
       "    <tr>\n",
       "      <th>6744</th>\n",
       "      <td>6753</td>\n",
       "      <td>Airport</td>\n",
       "      <td>NaN</td>\n",
       "      <td>No Cars Available</td>\n",
       "      <td>15-07-2016 23:55:03</td>\n",
       "      <td>NaN</td>\n",
       "    </tr>\n",
       "  </tbody>\n",
       "</table>\n",
       "<p>2650 rows × 6 columns</p>\n",
       "</div>"
      ],
      "text/plain": [
       "      Request id Pickup point  Driver id             Status  \\\n",
       "4095        1362         City        NaN  No Cars Available   \n",
       "4096        1364         City        NaN  No Cars Available   \n",
       "4097        1366         City        NaN  No Cars Available   \n",
       "4098           2      Airport        NaN  No Cars Available   \n",
       "4099           7      Airport        NaN  No Cars Available   \n",
       "...          ...          ...        ...                ...   \n",
       "6740        6745         City        NaN  No Cars Available   \n",
       "6741        6752      Airport        NaN  No Cars Available   \n",
       "6742        6751         City        NaN  No Cars Available   \n",
       "6743        6754         City        NaN  No Cars Available   \n",
       "6744        6753      Airport        NaN  No Cars Available   \n",
       "\n",
       "        Request timestamp Drop timestamp  \n",
       "4095      11/7/2016 00:02            NaN  \n",
       "4096      11/7/2016 00:06            NaN  \n",
       "4097      11/7/2016 00:09            NaN  \n",
       "4098      11/7/2016 00:23            NaN  \n",
       "4099      11/7/2016 00:30            NaN  \n",
       "...                   ...            ...  \n",
       "6740  15-07-2016 23:49:03            NaN  \n",
       "6741  15-07-2016 23:50:05            NaN  \n",
       "6742  15-07-2016 23:52:06            NaN  \n",
       "6743  15-07-2016 23:54:39            NaN  \n",
       "6744  15-07-2016 23:55:03            NaN  \n",
       "\n",
       "[2650 rows x 6 columns]"
      ]
     },
     "execution_count": 9,
     "metadata": {},
     "output_type": "execute_result"
    }
   ],
   "source": [
    "df[df['Status']=='No Cars Available']"
   ]
  },
  {
   "cell_type": "code",
   "execution_count": 10,
   "id": "72897869",
   "metadata": {},
   "outputs": [
    {
     "data": {
      "text/html": [
       "<div>\n",
       "<style scoped>\n",
       "    .dataframe tbody tr th:only-of-type {\n",
       "        vertical-align: middle;\n",
       "    }\n",
       "\n",
       "    .dataframe tbody tr th {\n",
       "        vertical-align: top;\n",
       "    }\n",
       "\n",
       "    .dataframe thead th {\n",
       "        text-align: right;\n",
       "    }\n",
       "</style>\n",
       "<table border=\"1\" class=\"dataframe\">\n",
       "  <thead>\n",
       "    <tr style=\"text-align: right;\">\n",
       "      <th></th>\n",
       "      <th>Request id</th>\n",
       "      <th>Pickup point</th>\n",
       "      <th>Driver id</th>\n",
       "      <th>Status</th>\n",
       "      <th>Request timestamp</th>\n",
       "      <th>Drop timestamp</th>\n",
       "    </tr>\n",
       "  </thead>\n",
       "  <tbody>\n",
       "  </tbody>\n",
       "</table>\n",
       "</div>"
      ],
      "text/plain": [
       "Empty DataFrame\n",
       "Columns: [Request id, Pickup point, Driver id, Status, Request timestamp, Drop timestamp]\n",
       "Index: []"
      ]
     },
     "execution_count": 10,
     "metadata": {},
     "output_type": "execute_result"
    }
   ],
   "source": [
    "df[df['Driver id']==0] #nt2kd en mfesh had wa5ed el id da"
   ]
  },
  {
   "cell_type": "code",
   "execution_count": 11,
   "id": "275aff2f",
   "metadata": {},
   "outputs": [],
   "source": [
    "df['Driver id'].fillna(0,inplace=True)"
   ]
  },
  {
   "cell_type": "code",
   "execution_count": 12,
   "id": "45fdc8f3",
   "metadata": {},
   "outputs": [],
   "source": [
    "df['Driver id']=df['Driver id'].astype(str)"
   ]
  },
  {
   "cell_type": "code",
   "execution_count": 13,
   "id": "2059e08b",
   "metadata": {},
   "outputs": [
    {
     "data": {
      "text/plain": [
       "Request id            int64\n",
       "Pickup point         object\n",
       "Driver id            object\n",
       "Status               object\n",
       "Request timestamp    object\n",
       "Drop timestamp       object\n",
       "dtype: object"
      ]
     },
     "execution_count": 13,
     "metadata": {},
     "output_type": "execute_result"
    }
   ],
   "source": [
    "df.dtypes"
   ]
  },
  {
   "cell_type": "code",
   "execution_count": 14,
   "id": "4d1e56d8",
   "metadata": {},
   "outputs": [],
   "source": [
    "df=df.astype({'Request id':'str','Driver id':'str'})"
   ]
  },
  {
   "cell_type": "code",
   "execution_count": 15,
   "id": "f0b970c7",
   "metadata": {},
   "outputs": [
    {
     "data": {
      "text/plain": [
       "Request id           object\n",
       "Pickup point         object\n",
       "Driver id            object\n",
       "Status               object\n",
       "Request timestamp    object\n",
       "Drop timestamp       object\n",
       "dtype: object"
      ]
     },
     "execution_count": 15,
     "metadata": {},
     "output_type": "execute_result"
    }
   ],
   "source": [
    "df.dtypes"
   ]
  },
  {
   "cell_type": "code",
   "execution_count": 16,
   "id": "be57a4ef",
   "metadata": {},
   "outputs": [
    {
     "data": {
      "text/plain": [
       "<AxesSubplot:ylabel='Status'>"
      ]
     },
     "execution_count": 16,
     "metadata": {},
     "output_type": "execute_result"
    },
    {
     "data": {
      "image/png": "[encoded data removed]",
      "text/plain": [
       "<Figure size 640x480 with 1 Axes>"
      ]
     },
     "metadata": {},
     "output_type": "display_data"
    }
   ],
   "source": [
    "df['Status'].value_counts().plot(kind='pie')"
   ]
  },
  {
   "cell_type": "code",
   "execution_count": 17,
   "id": "aa20d3d0",
   "metadata": {},
   "outputs": [
    {
     "data": {
      "text/plain": [
       "<AxesSubplot:xlabel='Status', ylabel='count'>"
      ]
     },
     "execution_count": 17,
     "metadata": {},
     "output_type": "execute_result"
    },
    {
     "data": {
      "image/png": "[encoded data removed]",
      "text/plain": [
       "<Figure size 640x480 with 1 Axes>"
      ]
     },
     "metadata": {},
     "output_type": "display_data"
    }
   ],
   "source": [
    "sns.countplot(data=df,x='Status')"
   ]
  },
  {
   "cell_type": "code",
   "execution_count": 18,
   "id": "2176d8e1",
   "metadata": {},
   "outputs": [
    {
     "data": {
      "text/plain": [
       "Request id              0\n",
       "Pickup point            0\n",
       "Driver id               0\n",
       "Status                  0\n",
       "Request timestamp       0\n",
       "Drop timestamp       3914\n",
       "dtype: int64"
      ]
     },
     "execution_count": 18,
     "metadata": {},
     "output_type": "execute_result"
    }
   ],
   "source": [
    "df.isna().sum()"
   ]
  },
  {
   "cell_type": "code",
   "execution_count": 19,
   "id": "175b1052",
   "metadata": {},
   "outputs": [
    {
     "data": {
      "text/html": [
       "<div>\n",
       "<style scoped>\n",
       "    .dataframe tbody tr th:only-of-type {\n",
       "        vertical-align: middle;\n",
       "    }\n",
       "\n",
       "    .dataframe tbody tr th {\n",
       "        vertical-align: top;\n",
       "    }\n",
       "\n",
       "    .dataframe thead th {\n",
       "        text-align: right;\n",
       "    }\n",
       "</style>\n",
       "<table border=\"1\" class=\"dataframe\">\n",
       "  <thead>\n",
       "    <tr style=\"text-align: right;\">\n",
       "      <th></th>\n",
       "      <th>Request id</th>\n",
       "      <th>Pickup point</th>\n",
       "      <th>Driver id</th>\n",
       "      <th>Status</th>\n",
       "      <th>Request timestamp</th>\n",
       "      <th>Drop timestamp</th>\n",
       "    </tr>\n",
       "  </thead>\n",
       "  <tbody>\n",
       "    <tr>\n",
       "      <th>2831</th>\n",
       "      <td>2905</td>\n",
       "      <td>City</td>\n",
       "      <td>1.0</td>\n",
       "      <td>Cancelled</td>\n",
       "      <td>13-07-2016 06:08:41</td>\n",
       "      <td>NaN</td>\n",
       "    </tr>\n",
       "    <tr>\n",
       "      <th>2832</th>\n",
       "      <td>4805</td>\n",
       "      <td>City</td>\n",
       "      <td>1.0</td>\n",
       "      <td>Cancelled</td>\n",
       "      <td>14-07-2016 17:07:58</td>\n",
       "      <td>NaN</td>\n",
       "    </tr>\n",
       "    <tr>\n",
       "      <th>2833</th>\n",
       "      <td>5202</td>\n",
       "      <td>Airport</td>\n",
       "      <td>1.0</td>\n",
       "      <td>Cancelled</td>\n",
       "      <td>14-07-2016 20:51:37</td>\n",
       "      <td>NaN</td>\n",
       "    </tr>\n",
       "    <tr>\n",
       "      <th>2834</th>\n",
       "      <td>5927</td>\n",
       "      <td>City</td>\n",
       "      <td>1.0</td>\n",
       "      <td>Cancelled</td>\n",
       "      <td>15-07-2016 10:12:40</td>\n",
       "      <td>NaN</td>\n",
       "    </tr>\n",
       "    <tr>\n",
       "      <th>2835</th>\n",
       "      <td>2347</td>\n",
       "      <td>Airport</td>\n",
       "      <td>2.0</td>\n",
       "      <td>Cancelled</td>\n",
       "      <td>12/7/2016 19:14</td>\n",
       "      <td>NaN</td>\n",
       "    </tr>\n",
       "    <tr>\n",
       "      <th>...</th>\n",
       "      <td>...</td>\n",
       "      <td>...</td>\n",
       "      <td>...</td>\n",
       "      <td>...</td>\n",
       "      <td>...</td>\n",
       "      <td>...</td>\n",
       "    </tr>\n",
       "    <tr>\n",
       "      <th>6740</th>\n",
       "      <td>6745</td>\n",
       "      <td>City</td>\n",
       "      <td>0.0</td>\n",
       "      <td>No Cars Available</td>\n",
       "      <td>15-07-2016 23:49:03</td>\n",
       "      <td>NaN</td>\n",
       "    </tr>\n",
       "    <tr>\n",
       "      <th>6741</th>\n",
       "      <td>6752</td>\n",
       "      <td>Airport</td>\n",
       "      <td>0.0</td>\n",
       "      <td>No Cars Available</td>\n",
       "      <td>15-07-2016 23:50:05</td>\n",
       "      <td>NaN</td>\n",
       "    </tr>\n",
       "    <tr>\n",
       "      <th>6742</th>\n",
       "      <td>6751</td>\n",
       "      <td>City</td>\n",
       "      <td>0.0</td>\n",
       "      <td>No Cars Available</td>\n",
       "      <td>15-07-2016 23:52:06</td>\n",
       "      <td>NaN</td>\n",
       "    </tr>\n",
       "    <tr>\n",
       "      <th>6743</th>\n",
       "      <td>6754</td>\n",
       "      <td>City</td>\n",
       "      <td>0.0</td>\n",
       "      <td>No Cars Available</td>\n",
       "      <td>15-07-2016 23:54:39</td>\n",
       "      <td>NaN</td>\n",
       "    </tr>\n",
       "    <tr>\n",
       "      <th>6744</th>\n",
       "      <td>6753</td>\n",
       "      <td>Airport</td>\n",
       "      <td>0.0</td>\n",
       "      <td>No Cars Available</td>\n",
       "      <td>15-07-2016 23:55:03</td>\n",
       "      <td>NaN</td>\n",
       "    </tr>\n",
       "  </tbody>\n",
       "</table>\n",
       "<p>3914 rows × 6 columns</p>\n",
       "</div>"
      ],
      "text/plain": [
       "     Request id Pickup point Driver id             Status  \\\n",
       "2831       2905         City       1.0          Cancelled   \n",
       "2832       4805         City       1.0          Cancelled   \n",
       "2833       5202      Airport       1.0          Cancelled   \n",
       "2834       5927         City       1.0          Cancelled   \n",
       "2835       2347      Airport       2.0          Cancelled   \n",
       "...         ...          ...       ...                ...   \n",
       "6740       6745         City       0.0  No Cars Available   \n",
       "6741       6752      Airport       0.0  No Cars Available   \n",
       "6742       6751         City       0.0  No Cars Available   \n",
       "6743       6754         City       0.0  No Cars Available   \n",
       "6744       6753      Airport       0.0  No Cars Available   \n",
       "\n",
       "        Request timestamp Drop timestamp  \n",
       "2831  13-07-2016 06:08:41            NaN  \n",
       "2832  14-07-2016 17:07:58            NaN  \n",
       "2833  14-07-2016 20:51:37            NaN  \n",
       "2834  15-07-2016 10:12:40            NaN  \n",
       "2835      12/7/2016 19:14            NaN  \n",
       "...                   ...            ...  \n",
       "6740  15-07-2016 23:49:03            NaN  \n",
       "6741  15-07-2016 23:50:05            NaN  \n",
       "6742  15-07-2016 23:52:06            NaN  \n",
       "6743  15-07-2016 23:54:39            NaN  \n",
       "6744  15-07-2016 23:55:03            NaN  \n",
       "\n",
       "[3914 rows x 6 columns]"
      ]
     },
     "execution_count": 19,
     "metadata": {},
     "output_type": "execute_result"
    }
   ],
   "source": [
    "df[df['Drop timestamp'].isna()]"
   ]
  },
  {
   "cell_type": "code",
   "execution_count": 20,
   "id": "d82551dc",
   "metadata": {},
   "outputs": [
    {
     "data": {
      "text/plain": [
       "1264"
      ]
     },
     "execution_count": 20,
     "metadata": {},
     "output_type": "execute_result"
    }
   ],
   "source": [
    "(df['Status']=='Cancelled').sum()"
   ]
  },
  {
   "cell_type": "code",
   "execution_count": null,
   "id": "bf3aaa13",
   "metadata": {},
   "outputs": [],
   "source": []
  },
  {
   "cell_type": "markdown",
   "id": "d0fcc29d",
   "metadata": {
    "id": "d0fcc29d"
   },
   "source": [
    "# explore nan values"
   ]
  },
  {
   "cell_type": "markdown",
   "id": "fc9768d8",
   "metadata": {
    "id": "fc9768d8"
   },
   "source": [
    "## dealing with driver id"
   ]
  },
  {
   "cell_type": "code",
   "execution_count": null,
   "id": "1wG6tq_SKy2-",
   "metadata": {
    "id": "1wG6tq_SKy2-"
   },
   "outputs": [],
   "source": []
  },
  {
   "cell_type": "code",
   "execution_count": null,
   "id": "9DtNtUL9Ky6W",
   "metadata": {
    "id": "9DtNtUL9Ky6W"
   },
   "outputs": [],
   "source": []
  },
  {
   "cell_type": "code",
   "execution_count": null,
   "id": "kc5bJqlyKy90",
   "metadata": {
    "id": "kc5bJqlyKy90"
   },
   "outputs": [],
   "source": []
  },
  {
   "cell_type": "markdown",
   "id": "f3fc316a",
   "metadata": {
    "id": "f3fc316a"
   },
   "source": [
    "## dealing with drop timestamp"
   ]
  },
  {
   "cell_type": "code",
   "execution_count": 21,
   "id": "xVQN2LnFK1yE",
   "metadata": {
    "id": "xVQN2LnFK1yE"
   },
   "outputs": [],
   "source": [
    "df['Request timestamp']=pd.to_datetime(df['Request timestamp'])"
   ]
  },
  {
   "cell_type": "code",
   "execution_count": 22,
   "id": "EYW4Y024K11v",
   "metadata": {
    "id": "EYW4Y024K11v"
   },
   "outputs": [
    {
     "data": {
      "text/plain": [
       "Request id                   object\n",
       "Pickup point                 object\n",
       "Driver id                    object\n",
       "Status                       object\n",
       "Request timestamp    datetime64[ns]\n",
       "Drop timestamp               object\n",
       "dtype: object"
      ]
     },
     "execution_count": 22,
     "metadata": {},
     "output_type": "execute_result"
    }
   ],
   "source": [
    "df.dtypes"
   ]
  },
  {
   "cell_type": "code",
   "execution_count": 23,
   "id": "_MTDCP9BK16Z",
   "metadata": {
    "id": "_MTDCP9BK16Z"
   },
   "outputs": [],
   "source": [
    "df['Drop timestamp']=pd.to_datetime(df['Drop timestamp'])"
   ]
  },
  {
   "cell_type": "code",
   "execution_count": 24,
   "id": "3a83a42d",
   "metadata": {},
   "outputs": [
    {
     "data": {
      "text/plain": [
       "Request id                   object\n",
       "Pickup point                 object\n",
       "Driver id                    object\n",
       "Status                       object\n",
       "Request timestamp    datetime64[ns]\n",
       "Drop timestamp       datetime64[ns]\n",
       "dtype: object"
      ]
     },
     "execution_count": 24,
     "metadata": {},
     "output_type": "execute_result"
    }
   ],
   "source": [
    "df.dtypes"
   ]
  },
  {
   "cell_type": "code",
   "execution_count": null,
   "id": "1545a0c9",
   "metadata": {},
   "outputs": [],
   "source": []
  },
  {
   "cell_type": "markdown",
   "id": "ece21cfa",
   "metadata": {
    "id": "ece21cfa"
   },
   "source": [
    "# Analysis"
   ]
  },
  {
   "cell_type": "code",
   "execution_count": 25,
   "id": "rnteU7LyK4AK",
   "metadata": {
    "id": "rnteU7LyK4AK"
   },
   "outputs": [
    {
     "data": {
      "image/png": "[encoded data removed]",
      "text/plain": [
       "<Figure size 640x480 with 1 Axes>"
      ]
     },
     "metadata": {},
     "output_type": "display_data"
    }
   ],
   "source": [
    "sns.countplot('Status',hue='Pickup point',data=df)\n",
    "plt.show()"
   ]
  },
  {
   "cell_type": "code",
   "execution_count": null,
   "id": "wO3FkZDTK4Di",
   "metadata": {
    "id": "wO3FkZDTK4Di"
   },
   "outputs": [],
   "source": []
  },
  {
   "cell_type": "code",
   "execution_count": null,
   "id": "Hp9Nq17kK4HP",
   "metadata": {
    "id": "Hp9Nq17kK4HP"
   },
   "outputs": [],
   "source": []
  },
  {
   "cell_type": "markdown",
   "id": "95db132c",
   "metadata": {
    "id": "95db132c"
   },
   "source": [
    "# Completed Trips"
   ]
  },
  {
   "cell_type": "markdown",
   "id": "3baf2c31",
   "metadata": {
    "id": "3baf2c31"
   },
   "source": [
    "# What is the most 5 successful driver?"
   ]
  },
  {
   "cell_type": "code",
   "execution_count": 26,
   "id": "xnhwDWRRK-kQ",
   "metadata": {
    "id": "xnhwDWRRK-kQ"
   },
   "outputs": [],
   "source": [
    "completed_df=df[df['Status']=='Trip Completed']"
   ]
  },
  {
   "cell_type": "code",
   "execution_count": 27,
   "id": "-rjB0s_qK-n5",
   "metadata": {
    "id": "-rjB0s_qK-n5"
   },
   "outputs": [
    {
     "data": {
      "text/html": [
       "<div>\n",
       "<style scoped>\n",
       "    .dataframe tbody tr th:only-of-type {\n",
       "        vertical-align: middle;\n",
       "    }\n",
       "\n",
       "    .dataframe tbody tr th {\n",
       "        vertical-align: top;\n",
       "    }\n",
       "\n",
       "    .dataframe thead th {\n",
       "        text-align: right;\n",
       "    }\n",
       "</style>\n",
       "<table border=\"1\" class=\"dataframe\">\n",
       "  <thead>\n",
       "    <tr style=\"text-align: right;\">\n",
       "      <th></th>\n",
       "      <th>Request id</th>\n",
       "      <th>Pickup point</th>\n",
       "      <th>Driver id</th>\n",
       "      <th>Status</th>\n",
       "      <th>Request timestamp</th>\n",
       "      <th>Drop timestamp</th>\n",
       "    </tr>\n",
       "  </thead>\n",
       "  <tbody>\n",
       "    <tr>\n",
       "      <th>0</th>\n",
       "      <td>619</td>\n",
       "      <td>Airport</td>\n",
       "      <td>1.0</td>\n",
       "      <td>Trip Completed</td>\n",
       "      <td>2016-11-07 11:51:00</td>\n",
       "      <td>2016-11-07 13:00:00</td>\n",
       "    </tr>\n",
       "    <tr>\n",
       "      <th>1</th>\n",
       "      <td>867</td>\n",
       "      <td>Airport</td>\n",
       "      <td>1.0</td>\n",
       "      <td>Trip Completed</td>\n",
       "      <td>2016-11-07 17:57:00</td>\n",
       "      <td>2016-11-07 18:47:00</td>\n",
       "    </tr>\n",
       "    <tr>\n",
       "      <th>2</th>\n",
       "      <td>1807</td>\n",
       "      <td>City</td>\n",
       "      <td>1.0</td>\n",
       "      <td>Trip Completed</td>\n",
       "      <td>2016-12-07 09:17:00</td>\n",
       "      <td>2016-12-07 09:58:00</td>\n",
       "    </tr>\n",
       "    <tr>\n",
       "      <th>3</th>\n",
       "      <td>2532</td>\n",
       "      <td>Airport</td>\n",
       "      <td>1.0</td>\n",
       "      <td>Trip Completed</td>\n",
       "      <td>2016-12-07 21:08:00</td>\n",
       "      <td>2016-12-07 22:03:00</td>\n",
       "    </tr>\n",
       "    <tr>\n",
       "      <th>4</th>\n",
       "      <td>3112</td>\n",
       "      <td>City</td>\n",
       "      <td>1.0</td>\n",
       "      <td>Trip Completed</td>\n",
       "      <td>2016-07-13 08:33:16</td>\n",
       "      <td>2016-07-13 09:25:47</td>\n",
       "    </tr>\n",
       "    <tr>\n",
       "      <th>...</th>\n",
       "      <td>...</td>\n",
       "      <td>...</td>\n",
       "      <td>...</td>\n",
       "      <td>...</td>\n",
       "      <td>...</td>\n",
       "      <td>...</td>\n",
       "    </tr>\n",
       "    <tr>\n",
       "      <th>2826</th>\n",
       "      <td>1315</td>\n",
       "      <td>Airport</td>\n",
       "      <td>300.0</td>\n",
       "      <td>Trip Completed</td>\n",
       "      <td>2016-11-07 22:54:00</td>\n",
       "      <td>2016-11-07 23:35:00</td>\n",
       "    </tr>\n",
       "    <tr>\n",
       "      <th>2827</th>\n",
       "      <td>2924</td>\n",
       "      <td>City</td>\n",
       "      <td>300.0</td>\n",
       "      <td>Trip Completed</td>\n",
       "      <td>2016-07-13 06:31:22</td>\n",
       "      <td>2016-07-13 07:20:52</td>\n",
       "    </tr>\n",
       "    <tr>\n",
       "      <th>2828</th>\n",
       "      <td>3324</td>\n",
       "      <td>Airport</td>\n",
       "      <td>300.0</td>\n",
       "      <td>Trip Completed</td>\n",
       "      <td>2016-07-13 12:33:21</td>\n",
       "      <td>2016-07-13 13:16:03</td>\n",
       "    </tr>\n",
       "    <tr>\n",
       "      <th>2829</th>\n",
       "      <td>3935</td>\n",
       "      <td>Airport</td>\n",
       "      <td>300.0</td>\n",
       "      <td>Trip Completed</td>\n",
       "      <td>2016-07-13 22:26:08</td>\n",
       "      <td>2016-07-13 23:43:13</td>\n",
       "    </tr>\n",
       "    <tr>\n",
       "      <th>2830</th>\n",
       "      <td>5844</td>\n",
       "      <td>Airport</td>\n",
       "      <td>300.0</td>\n",
       "      <td>Trip Completed</td>\n",
       "      <td>2016-07-15 09:07:09</td>\n",
       "      <td>2016-07-15 09:56:07</td>\n",
       "    </tr>\n",
       "  </tbody>\n",
       "</table>\n",
       "<p>2831 rows × 6 columns</p>\n",
       "</div>"
      ],
      "text/plain": [
       "     Request id Pickup point Driver id          Status   Request timestamp  \\\n",
       "0           619      Airport       1.0  Trip Completed 2016-11-07 11:51:00   \n",
       "1           867      Airport       1.0  Trip Completed 2016-11-07 17:57:00   \n",
       "2          1807         City       1.0  Trip Completed 2016-12-07 09:17:00   \n",
       "3          2532      Airport       1.0  Trip Completed 2016-12-07 21:08:00   \n",
       "4          3112         City       1.0  Trip Completed 2016-07-13 08:33:16   \n",
       "...         ...          ...       ...             ...                 ...   \n",
       "2826       1315      Airport     300.0  Trip Completed 2016-11-07 22:54:00   \n",
       "2827       2924         City     300.0  Trip Completed 2016-07-13 06:31:22   \n",
       "2828       3324      Airport     300.0  Trip Completed 2016-07-13 12:33:21   \n",
       "2829       3935      Airport     300.0  Trip Completed 2016-07-13 22:26:08   \n",
       "2830       5844      Airport     300.0  Trip Completed 2016-07-15 09:07:09   \n",
       "\n",
       "          Drop timestamp  \n",
       "0    2016-11-07 13:00:00  \n",
       "1    2016-11-07 18:47:00  \n",
       "2    2016-12-07 09:58:00  \n",
       "3    2016-12-07 22:03:00  \n",
       "4    2016-07-13 09:25:47  \n",
       "...                  ...  \n",
       "2826 2016-11-07 23:35:00  \n",
       "2827 2016-07-13 07:20:52  \n",
       "2828 2016-07-13 13:16:03  \n",
       "2829 2016-07-13 23:43:13  \n",
       "2830 2016-07-15 09:56:07  \n",
       "\n",
       "[2831 rows x 6 columns]"
      ]
     },
     "execution_count": 27,
     "metadata": {},
     "output_type": "execute_result"
    }
   ],
   "source": [
    "completed_df"
   ]
  },
  {
   "cell_type": "code",
   "execution_count": 28,
   "id": "980c2TgqK-rn",
   "metadata": {
    "id": "980c2TgqK-rn"
   },
   "outputs": [
    {
     "data": {
      "text/plain": [
       "<AxesSubplot:>"
      ]
     },
     "execution_count": 28,
     "metadata": {},
     "output_type": "execute_result"
    },
    {
     "data": {
      "image/png": "[encoded data removed]",
      "text/plain": [
       "<Figure size 640x480 with 1 Axes>"
      ]
     },
     "metadata": {},
     "output_type": "display_data"
    }
   ],
   "source": [
    "completed_df['Driver id'].value_counts().nlargest(5).plot(kind='bar')"
   ]
  },
  {
   "cell_type": "code",
   "execution_count": 29,
   "id": "E5eQt7OrK-v-",
   "metadata": {
    "id": "E5eQt7OrK-v-"
   },
   "outputs": [
    {
     "data": {
      "text/plain": [
       "Request id                   object\n",
       "Pickup point                 object\n",
       "Driver id                    object\n",
       "Status                       object\n",
       "Request timestamp    datetime64[ns]\n",
       "Drop timestamp       datetime64[ns]\n",
       "dtype: object"
      ]
     },
     "execution_count": 29,
     "metadata": {},
     "output_type": "execute_result"
    }
   ],
   "source": [
    "completed_df.dtypes"
   ]
  },
  {
   "cell_type": "markdown",
   "id": "65c2bbcb",
   "metadata": {
    "id": "65c2bbcb"
   },
   "source": [
    "# What is the month with the highest completed rides"
   ]
  },
  {
   "cell_type": "code",
   "execution_count": 30,
   "id": "596e593d",
   "metadata": {},
   "outputs": [
    {
     "data": {
      "text/plain": [
       "0       11\n",
       "1       11\n",
       "2       12\n",
       "3       12\n",
       "4        7\n",
       "        ..\n",
       "2826    11\n",
       "2827     7\n",
       "2828     7\n",
       "2829     7\n",
       "2830     7\n",
       "Name: Request timestamp, Length: 2831, dtype: int64"
      ]
     },
     "execution_count": 30,
     "metadata": {},
     "output_type": "execute_result"
    }
   ],
   "source": [
    "completed_df['Request timestamp'].dt.month"
   ]
  },
  {
   "cell_type": "code",
   "execution_count": 31,
   "id": "7927f1e3",
   "metadata": {},
   "outputs": [
    {
     "data": {
      "text/plain": [
       "0       2016\n",
       "1       2016\n",
       "2       2016\n",
       "3       2016\n",
       "4       2016\n",
       "        ... \n",
       "2826    2016\n",
       "2827    2016\n",
       "2828    2016\n",
       "2829    2016\n",
       "2830    2016\n",
       "Name: Request timestamp, Length: 2831, dtype: int64"
      ]
     },
     "execution_count": 31,
     "metadata": {},
     "output_type": "execute_result"
    }
   ],
   "source": [
    "completed_df['Request timestamp'].dt.year"
   ]
  },
  {
   "cell_type": "code",
   "execution_count": 32,
   "id": "c609155c",
   "metadata": {},
   "outputs": [
    {
     "data": {
      "text/plain": [
       "0        7\n",
       "1        7\n",
       "2        7\n",
       "3        7\n",
       "4       13\n",
       "        ..\n",
       "2826     7\n",
       "2827    13\n",
       "2828    13\n",
       "2829    13\n",
       "2830    15\n",
       "Name: Request timestamp, Length: 2831, dtype: int64"
      ]
     },
     "execution_count": 32,
     "metadata": {},
     "output_type": "execute_result"
    }
   ],
   "source": [
    "completed_df['Request timestamp'].dt.day"
   ]
  },
  {
   "cell_type": "code",
   "execution_count": 33,
   "id": "71180fa5",
   "metadata": {},
   "outputs": [
    {
     "data": {
      "text/plain": [
       "0          Monday\n",
       "1          Monday\n",
       "2       Wednesday\n",
       "3       Wednesday\n",
       "4       Wednesday\n",
       "          ...    \n",
       "2826       Monday\n",
       "2827    Wednesday\n",
       "2828    Wednesday\n",
       "2829    Wednesday\n",
       "2830       Friday\n",
       "Name: Request timestamp, Length: 2831, dtype: object"
      ]
     },
     "execution_count": 33,
     "metadata": {},
     "output_type": "execute_result"
    }
   ],
   "source": [
    "completed_df['Request timestamp'].dt.day_name()"
   ]
  },
  {
   "cell_type": "code",
   "execution_count": null,
   "id": "453d1439",
   "metadata": {},
   "outputs": [],
   "source": []
  },
  {
   "cell_type": "code",
   "execution_count": null,
   "id": "1ca5edc5",
   "metadata": {},
   "outputs": [],
   "source": []
  },
  {
   "cell_type": "code",
   "execution_count": 34,
   "id": "2iEFQQZfLAf2",
   "metadata": {
    "id": "2iEFQQZfLAf2"
   },
   "outputs": [
    {
     "data": {
      "text/plain": [
       "0      0 days 01:09:00\n",
       "1      0 days 00:50:00\n",
       "2      0 days 00:41:00\n",
       "3      0 days 00:55:00\n",
       "4      0 days 00:52:31\n",
       "             ...      \n",
       "2826   0 days 00:41:00\n",
       "2827   0 days 00:49:30\n",
       "2828   0 days 00:42:42\n",
       "2829   0 days 01:17:05\n",
       "2830   0 days 00:48:58\n",
       "Length: 2831, dtype: timedelta64[ns]"
      ]
     },
     "execution_count": 34,
     "metadata": {},
     "output_type": "execute_result"
    }
   ],
   "source": [
    "completed_df['Drop timestamp']-completed_df['Request timestamp']\n"
   ]
  },
  {
   "cell_type": "code",
   "execution_count": null,
   "id": "eBVD08UbLAje",
   "metadata": {
    "id": "eBVD08UbLAje"
   },
   "outputs": [],
   "source": []
  },
  {
   "cell_type": "markdown",
   "id": "89b3bd8b",
   "metadata": {
    "id": "89b3bd8b"
   },
   "source": [
    "# What is the day with the highest completed rides"
   ]
  },
  {
   "cell_type": "code",
   "execution_count": null,
   "id": "ee8fbe29",
   "metadata": {
    "id": "ee8fbe29"
   },
   "outputs": [],
   "source": []
  },
  {
   "cell_type": "markdown",
   "id": "c9218667",
   "metadata": {
    "id": "c9218667"
   },
   "source": [
    "# How many drivers the company have?"
   ]
  },
  {
   "cell_type": "code",
   "execution_count": 35,
   "id": "arr8M1-eLDWF",
   "metadata": {
    "id": "arr8M1-eLDWF"
   },
   "outputs": [
    {
     "data": {
      "text/plain": [
       "301"
      ]
     },
     "execution_count": 35,
     "metadata": {},
     "output_type": "execute_result"
    }
   ],
   "source": [
    "df['Driver id'].nunique() #hyb2o 300 msh 301 3lshan ahna haten 0"
   ]
  },
  {
   "cell_type": "code",
   "execution_count": null,
   "id": "Zh7tCLI3LDZm",
   "metadata": {
    "id": "Zh7tCLI3LDZm"
   },
   "outputs": [],
   "source": []
  },
  {
   "cell_type": "code",
   "execution_count": null,
   "id": "Y5cGu9TaLDfx",
   "metadata": {
    "id": "Y5cGu9TaLDfx"
   },
   "outputs": [],
   "source": []
  },
  {
   "cell_type": "markdown",
   "id": "50fd511f",
   "metadata": {
    "id": "50fd511f"
   },
   "source": [
    "# what is the average travel time?"
   ]
  },
  {
   "cell_type": "code",
   "execution_count": 36,
   "id": "ieEtEHMSLE6G",
   "metadata": {
    "id": "ieEtEHMSLE6G"
   },
   "outputs": [
    {
     "data": {
      "text/plain": [
       "0      0 days 01:09:00\n",
       "1      0 days 00:50:00\n",
       "2      0 days 00:41:00\n",
       "3      0 days 00:55:00\n",
       "4      0 days 00:52:31\n",
       "             ...      \n",
       "2826   0 days 00:41:00\n",
       "2827   0 days 00:49:30\n",
       "2828   0 days 00:42:42\n",
       "2829   0 days 01:17:05\n",
       "2830   0 days 00:48:58\n",
       "Length: 2831, dtype: timedelta64[ns]"
      ]
     },
     "execution_count": 36,
     "metadata": {},
     "output_type": "execute_result"
    }
   ],
   "source": [
    "completed_df['Drop timestamp']-completed_df['Request timestamp']"
   ]
  },
  {
   "cell_type": "code",
   "execution_count": 37,
   "id": "Q8HbQwjELE9Q",
   "metadata": {
    "id": "Q8HbQwjELE9Q"
   },
   "outputs": [],
   "source": [
    "#completed_df['diff_days'] = completed_df['diff_days']/ np.timedelta64(1, 'D')"
   ]
  },
  {
   "cell_type": "code",
   "execution_count": 38,
   "id": "A7TRscP0LFAt",
   "metadata": {
    "id": "A7TRscP0LFAt"
   },
   "outputs": [],
   "source": [
    "completed_df['TimeDifferences']=completed_df['Drop timestamp']-completed_df['Request timestamp']"
   ]
  },
  {
   "cell_type": "code",
   "execution_count": 39,
   "id": "2f6ebbbd",
   "metadata": {},
   "outputs": [],
   "source": [
    "completed_df['average_time']=completed_df['TimeDifferences'].dt.components.minutes+(completed_df['TimeDifferences'].dt.components.hours*60)+(completed_df['TimeDifferences'].dt.components.seconds/60)"
   ]
  },
  {
   "cell_type": "code",
   "execution_count": 40,
   "id": "d91dd629",
   "metadata": {},
   "outputs": [],
   "source": [
    "completed_df['average_time']=completed_df['average_time'].apply(np.ceil).astype(int)"
   ]
  },
  {
   "cell_type": "code",
   "execution_count": 41,
   "id": "7dfbc50e",
   "metadata": {
    "scrolled": false
   },
   "outputs": [
    {
     "data": {
      "text/html": [
       "<div>\n",
       "<style scoped>\n",
       "    .dataframe tbody tr th:only-of-type {\n",
       "        vertical-align: middle;\n",
       "    }\n",
       "\n",
       "    .dataframe tbody tr th {\n",
       "        vertical-align: top;\n",
       "    }\n",
       "\n",
       "    .dataframe thead th {\n",
       "        text-align: right;\n",
       "    }\n",
       "</style>\n",
       "<table border=\"1\" class=\"dataframe\">\n",
       "  <thead>\n",
       "    <tr style=\"text-align: right;\">\n",
       "      <th></th>\n",
       "      <th>Request id</th>\n",
       "      <th>Pickup point</th>\n",
       "      <th>Driver id</th>\n",
       "      <th>Status</th>\n",
       "      <th>Request timestamp</th>\n",
       "      <th>Drop timestamp</th>\n",
       "      <th>TimeDifferences</th>\n",
       "      <th>average_time</th>\n",
       "    </tr>\n",
       "  </thead>\n",
       "  <tbody>\n",
       "    <tr>\n",
       "      <th>0</th>\n",
       "      <td>619</td>\n",
       "      <td>Airport</td>\n",
       "      <td>1.0</td>\n",
       "      <td>Trip Completed</td>\n",
       "      <td>2016-11-07 11:51:00</td>\n",
       "      <td>2016-11-07 13:00:00</td>\n",
       "      <td>0 days 01:09:00</td>\n",
       "      <td>69</td>\n",
       "    </tr>\n",
       "    <tr>\n",
       "      <th>1</th>\n",
       "      <td>867</td>\n",
       "      <td>Airport</td>\n",
       "      <td>1.0</td>\n",
       "      <td>Trip Completed</td>\n",
       "      <td>2016-11-07 17:57:00</td>\n",
       "      <td>2016-11-07 18:47:00</td>\n",
       "      <td>0 days 00:50:00</td>\n",
       "      <td>50</td>\n",
       "    </tr>\n",
       "    <tr>\n",
       "      <th>2</th>\n",
       "      <td>1807</td>\n",
       "      <td>City</td>\n",
       "      <td>1.0</td>\n",
       "      <td>Trip Completed</td>\n",
       "      <td>2016-12-07 09:17:00</td>\n",
       "      <td>2016-12-07 09:58:00</td>\n",
       "      <td>0 days 00:41:00</td>\n",
       "      <td>41</td>\n",
       "    </tr>\n",
       "    <tr>\n",
       "      <th>3</th>\n",
       "      <td>2532</td>\n",
       "      <td>Airport</td>\n",
       "      <td>1.0</td>\n",
       "      <td>Trip Completed</td>\n",
       "      <td>2016-12-07 21:08:00</td>\n",
       "      <td>2016-12-07 22:03:00</td>\n",
       "      <td>0 days 00:55:00</td>\n",
       "      <td>55</td>\n",
       "    </tr>\n",
       "    <tr>\n",
       "      <th>4</th>\n",
       "      <td>3112</td>\n",
       "      <td>City</td>\n",
       "      <td>1.0</td>\n",
       "      <td>Trip Completed</td>\n",
       "      <td>2016-07-13 08:33:16</td>\n",
       "      <td>2016-07-13 09:25:47</td>\n",
       "      <td>0 days 00:52:31</td>\n",
       "      <td>53</td>\n",
       "    </tr>\n",
       "    <tr>\n",
       "      <th>...</th>\n",
       "      <td>...</td>\n",
       "      <td>...</td>\n",
       "      <td>...</td>\n",
       "      <td>...</td>\n",
       "      <td>...</td>\n",
       "      <td>...</td>\n",
       "      <td>...</td>\n",
       "      <td>...</td>\n",
       "    </tr>\n",
       "    <tr>\n",
       "      <th>2826</th>\n",
       "      <td>1315</td>\n",
       "      <td>Airport</td>\n",
       "      <td>300.0</td>\n",
       "      <td>Trip Completed</td>\n",
       "      <td>2016-11-07 22:54:00</td>\n",
       "      <td>2016-11-07 23:35:00</td>\n",
       "      <td>0 days 00:41:00</td>\n",
       "      <td>41</td>\n",
       "    </tr>\n",
       "    <tr>\n",
       "      <th>2827</th>\n",
       "      <td>2924</td>\n",
       "      <td>City</td>\n",
       "      <td>300.0</td>\n",
       "      <td>Trip Completed</td>\n",
       "      <td>2016-07-13 06:31:22</td>\n",
       "      <td>2016-07-13 07:20:52</td>\n",
       "      <td>0 days 00:49:30</td>\n",
       "      <td>50</td>\n",
       "    </tr>\n",
       "    <tr>\n",
       "      <th>2828</th>\n",
       "      <td>3324</td>\n",
       "      <td>Airport</td>\n",
       "      <td>300.0</td>\n",
       "      <td>Trip Completed</td>\n",
       "      <td>2016-07-13 12:33:21</td>\n",
       "      <td>2016-07-13 13:16:03</td>\n",
       "      <td>0 days 00:42:42</td>\n",
       "      <td>43</td>\n",
       "    </tr>\n",
       "    <tr>\n",
       "      <th>2829</th>\n",
       "      <td>3935</td>\n",
       "      <td>Airport</td>\n",
       "      <td>300.0</td>\n",
       "      <td>Trip Completed</td>\n",
       "      <td>2016-07-13 22:26:08</td>\n",
       "      <td>2016-07-13 23:43:13</td>\n",
       "      <td>0 days 01:17:05</td>\n",
       "      <td>78</td>\n",
       "    </tr>\n",
       "    <tr>\n",
       "      <th>2830</th>\n",
       "      <td>5844</td>\n",
       "      <td>Airport</td>\n",
       "      <td>300.0</td>\n",
       "      <td>Trip Completed</td>\n",
       "      <td>2016-07-15 09:07:09</td>\n",
       "      <td>2016-07-15 09:56:07</td>\n",
       "      <td>0 days 00:48:58</td>\n",
       "      <td>49</td>\n",
       "    </tr>\n",
       "  </tbody>\n",
       "</table>\n",
       "<p>2831 rows × 8 columns</p>\n",
       "</div>"
      ],
      "text/plain": [
       "     Request id Pickup point Driver id          Status   Request timestamp  \\\n",
       "0           619      Airport       1.0  Trip Completed 2016-11-07 11:51:00   \n",
       "1           867      Airport       1.0  Trip Completed 2016-11-07 17:57:00   \n",
       "2          1807         City       1.0  Trip Completed 2016-12-07 09:17:00   \n",
       "3          2532      Airport       1.0  Trip Completed 2016-12-07 21:08:00   \n",
       "4          3112         City       1.0  Trip Completed 2016-07-13 08:33:16   \n",
       "...         ...          ...       ...             ...                 ...   \n",
       "2826       1315      Airport     300.0  Trip Completed 2016-11-07 22:54:00   \n",
       "2827       2924         City     300.0  Trip Completed 2016-07-13 06:31:22   \n",
       "2828       3324      Airport     300.0  Trip Completed 2016-07-13 12:33:21   \n",
       "2829       3935      Airport     300.0  Trip Completed 2016-07-13 22:26:08   \n",
       "2830       5844      Airport     300.0  Trip Completed 2016-07-15 09:07:09   \n",
       "\n",
       "          Drop timestamp TimeDifferences  average_time  \n",
       "0    2016-11-07 13:00:00 0 days 01:09:00            69  \n",
       "1    2016-11-07 18:47:00 0 days 00:50:00            50  \n",
       "2    2016-12-07 09:58:00 0 days 00:41:00            41  \n",
       "3    2016-12-07 22:03:00 0 days 00:55:00            55  \n",
       "4    2016-07-13 09:25:47 0 days 00:52:31            53  \n",
       "...                  ...             ...           ...  \n",
       "2826 2016-11-07 23:35:00 0 days 00:41:00            41  \n",
       "2827 2016-07-13 07:20:52 0 days 00:49:30            50  \n",
       "2828 2016-07-13 13:16:03 0 days 00:42:42            43  \n",
       "2829 2016-07-13 23:43:13 0 days 01:17:05            78  \n",
       "2830 2016-07-15 09:56:07 0 days 00:48:58            49  \n",
       "\n",
       "[2831 rows x 8 columns]"
      ]
     },
     "execution_count": 41,
     "metadata": {},
     "output_type": "execute_result"
    }
   ],
   "source": [
    "completed_df"
   ]
  },
  {
   "cell_type": "code",
   "execution_count": null,
   "id": "713312d4",
   "metadata": {},
   "outputs": [],
   "source": []
  },
  {
   "cell_type": "code",
   "execution_count": null,
   "id": "74bf1fcb",
   "metadata": {},
   "outputs": [],
   "source": []
  },
  {
   "cell_type": "code",
   "execution_count": null,
   "id": "c6cf8ab5",
   "metadata": {},
   "outputs": [],
   "source": []
  },
  {
   "cell_type": "markdown",
   "id": "3750637d",
   "metadata": {
    "id": "3750637d"
   },
   "source": [
    " # what is the maximum travel time?"
   ]
  },
  {
   "cell_type": "code",
   "execution_count": 42,
   "id": "EO4leE1bLIZR",
   "metadata": {
    "id": "EO4leE1bLIZR"
   },
   "outputs": [
    {
     "data": {
      "text/plain": [
       "83"
      ]
     },
     "execution_count": 42,
     "metadata": {},
     "output_type": "execute_result"
    }
   ],
   "source": [
    "completed_df['average_time'].max()"
   ]
  },
  {
   "cell_type": "code",
   "execution_count": null,
   "id": "4AljStV8LIcv",
   "metadata": {
    "id": "4AljStV8LIcv"
   },
   "outputs": [],
   "source": []
  },
  {
   "cell_type": "code",
   "execution_count": null,
   "id": "1PyRLYlwLIgU",
   "metadata": {
    "id": "1PyRLYlwLIgU"
   },
   "outputs": [],
   "source": []
  },
  {
   "cell_type": "markdown",
   "id": "2b82de54",
   "metadata": {
    "id": "2b82de54"
   },
   "source": [
    "# what is the minimum travel time?"
   ]
  },
  {
   "cell_type": "code",
   "execution_count": 43,
   "id": "DzTJ-cThLKHa",
   "metadata": {
    "id": "DzTJ-cThLKHa"
   },
   "outputs": [
    {
     "data": {
      "text/plain": [
       "21"
      ]
     },
     "execution_count": 43,
     "metadata": {},
     "output_type": "execute_result"
    }
   ],
   "source": [
    "completed_df['average_time'].min()"
   ]
  },
  {
   "cell_type": "code",
   "execution_count": null,
   "id": "AQ7GMEcALKVV",
   "metadata": {
    "id": "AQ7GMEcALKVV"
   },
   "outputs": [],
   "source": []
  },
  {
   "cell_type": "code",
   "execution_count": null,
   "id": "z0ynMuKoLNoT",
   "metadata": {
    "id": "z0ynMuKoLNoT"
   },
   "outputs": [],
   "source": []
  },
  {
   "cell_type": "code",
   "execution_count": 44,
   "id": "-v4RNN1TLNsE",
   "metadata": {
    "id": "-v4RNN1TLNsE"
   },
   "outputs": [
    {
     "data": {
      "text/plain": [
       "52.701872129989404"
      ]
     },
     "execution_count": 44,
     "metadata": {},
     "output_type": "execute_result"
    }
   ],
   "source": [
    "completed_df['average_time'].mean()"
   ]
  },
  {
   "cell_type": "code",
   "execution_count": 45,
   "id": "dcAZfruzLNwD",
   "metadata": {
    "id": "dcAZfruzLNwD"
   },
   "outputs": [
    {
     "data": {
      "text/plain": [
       "<seaborn.axisgrid.FacetGrid at 0x207a444cd60>"
      ]
     },
     "execution_count": 45,
     "metadata": {},
     "output_type": "execute_result"
    },
    {
     "data": {
      "image/png": "[encoded data removed]",
      "text/plain": [
       "<Figure size 500x500 with 1 Axes>"
      ]
     },
     "metadata": {},
     "output_type": "display_data"
    }
   ],
   "source": [
    "sns.displot(x='average_time',data=completed_df,kde=True)"
   ]
  },
  {
   "cell_type": "markdown",
   "id": "26b62176",
   "metadata": {
    "id": "26b62176"
   },
   "source": [
    "# No available cars"
   ]
  },
  {
   "cell_type": "code",
   "execution_count": 46,
   "id": "1d42da3c",
   "metadata": {
    "id": "1d42da3c"
   },
   "outputs": [],
   "source": [
    "nocars_df=df[df['Status']=='No Cars Available']\n"
   ]
  },
  {
   "cell_type": "code",
   "execution_count": 47,
   "id": "e2319cc5",
   "metadata": {},
   "outputs": [],
   "source": [
    "nocars_df.drop(['Drop timestamp','Status','Request id'],inplace=True,axis=1)"
   ]
  },
  {
   "cell_type": "code",
   "execution_count": 48,
   "id": "b44cf394",
   "metadata": {},
   "outputs": [
    {
     "data": {
      "text/html": [
       "<div>\n",
       "<style scoped>\n",
       "    .dataframe tbody tr th:only-of-type {\n",
       "        vertical-align: middle;\n",
       "    }\n",
       "\n",
       "    .dataframe tbody tr th {\n",
       "        vertical-align: top;\n",
       "    }\n",
       "\n",
       "    .dataframe thead th {\n",
       "        text-align: right;\n",
       "    }\n",
       "</style>\n",
       "<table border=\"1\" class=\"dataframe\">\n",
       "  <thead>\n",
       "    <tr style=\"text-align: right;\">\n",
       "      <th></th>\n",
       "      <th>Pickup point</th>\n",
       "      <th>Driver id</th>\n",
       "      <th>Request timestamp</th>\n",
       "    </tr>\n",
       "  </thead>\n",
       "  <tbody>\n",
       "    <tr>\n",
       "      <th>4095</th>\n",
       "      <td>City</td>\n",
       "      <td>0.0</td>\n",
       "      <td>2016-11-07 00:02:00</td>\n",
       "    </tr>\n",
       "    <tr>\n",
       "      <th>4096</th>\n",
       "      <td>City</td>\n",
       "      <td>0.0</td>\n",
       "      <td>2016-11-07 00:06:00</td>\n",
       "    </tr>\n",
       "    <tr>\n",
       "      <th>4097</th>\n",
       "      <td>City</td>\n",
       "      <td>0.0</td>\n",
       "      <td>2016-11-07 00:09:00</td>\n",
       "    </tr>\n",
       "    <tr>\n",
       "      <th>4098</th>\n",
       "      <td>Airport</td>\n",
       "      <td>0.0</td>\n",
       "      <td>2016-11-07 00:23:00</td>\n",
       "    </tr>\n",
       "    <tr>\n",
       "      <th>4099</th>\n",
       "      <td>Airport</td>\n",
       "      <td>0.0</td>\n",
       "      <td>2016-11-07 00:30:00</td>\n",
       "    </tr>\n",
       "    <tr>\n",
       "      <th>...</th>\n",
       "      <td>...</td>\n",
       "      <td>...</td>\n",
       "      <td>...</td>\n",
       "    </tr>\n",
       "    <tr>\n",
       "      <th>6740</th>\n",
       "      <td>City</td>\n",
       "      <td>0.0</td>\n",
       "      <td>2016-07-15 23:49:03</td>\n",
       "    </tr>\n",
       "    <tr>\n",
       "      <th>6741</th>\n",
       "      <td>Airport</td>\n",
       "      <td>0.0</td>\n",
       "      <td>2016-07-15 23:50:05</td>\n",
       "    </tr>\n",
       "    <tr>\n",
       "      <th>6742</th>\n",
       "      <td>City</td>\n",
       "      <td>0.0</td>\n",
       "      <td>2016-07-15 23:52:06</td>\n",
       "    </tr>\n",
       "    <tr>\n",
       "      <th>6743</th>\n",
       "      <td>City</td>\n",
       "      <td>0.0</td>\n",
       "      <td>2016-07-15 23:54:39</td>\n",
       "    </tr>\n",
       "    <tr>\n",
       "      <th>6744</th>\n",
       "      <td>Airport</td>\n",
       "      <td>0.0</td>\n",
       "      <td>2016-07-15 23:55:03</td>\n",
       "    </tr>\n",
       "  </tbody>\n",
       "</table>\n",
       "<p>2650 rows × 3 columns</p>\n",
       "</div>"
      ],
      "text/plain": [
       "     Pickup point Driver id   Request timestamp\n",
       "4095         City       0.0 2016-11-07 00:02:00\n",
       "4096         City       0.0 2016-11-07 00:06:00\n",
       "4097         City       0.0 2016-11-07 00:09:00\n",
       "4098      Airport       0.0 2016-11-07 00:23:00\n",
       "4099      Airport       0.0 2016-11-07 00:30:00\n",
       "...           ...       ...                 ...\n",
       "6740         City       0.0 2016-07-15 23:49:03\n",
       "6741      Airport       0.0 2016-07-15 23:50:05\n",
       "6742         City       0.0 2016-07-15 23:52:06\n",
       "6743         City       0.0 2016-07-15 23:54:39\n",
       "6744      Airport       0.0 2016-07-15 23:55:03\n",
       "\n",
       "[2650 rows x 3 columns]"
      ]
     },
     "execution_count": 48,
     "metadata": {},
     "output_type": "execute_result"
    }
   ],
   "source": [
    "nocars_df"
   ]
  },
  {
   "cell_type": "code",
   "execution_count": 50,
   "id": "2babc68c",
   "metadata": {},
   "outputs": [],
   "source": [
    "#sns.countplot(data=nocars_df,x='Pickup point',hue='month')"
   ]
  },
  {
   "cell_type": "code",
   "execution_count": 51,
   "id": "cd546fda",
   "metadata": {},
   "outputs": [],
   "source": [
    "cancelled_df=df[df['Status']=='Cancelled']\n"
   ]
  },
  {
   "cell_type": "code",
   "execution_count": null,
   "id": "56270cb0",
   "metadata": {},
   "outputs": [],
   "source": []
  }
 ],
 "metadata": {
  "colab": {
   "provenance": []
  },
  "kernelspec": {
   "display_name": "Python 3 (ipykernel)",
   "language": "python",
   "name": "python3"
  },
  "language_info": {
   "codemirror_mode": {
    "name": "ipython",
    "version": 3
   },
   "file_extension": ".py",
   "mimetype": "text/x-python",
   "name": "python",
   "nbconvert_exporter": "python",
   "pygments_lexer": "ipython3",
   "version": "3.9.13"
  }
 },
 "nbformat": 4,
 "nbformat_minor": 5
}
